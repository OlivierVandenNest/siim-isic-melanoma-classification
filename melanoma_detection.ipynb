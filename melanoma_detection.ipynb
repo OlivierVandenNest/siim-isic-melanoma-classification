{
 "cells": [
  {
   "cell_type": "code",
   "execution_count": 33,
   "metadata": {},
   "outputs": [],
   "source": [
    "import matplotlib.pyplot as plt\n",
    "import os\n",
    "import tensorflow as tf\n",
    "import numpy as np\n",
    "import pandas as pd\n",
    "import random"
   ]
  },
  {
   "cell_type": "code",
   "execution_count": 30,
   "metadata": {},
   "outputs": [],
   "source": [
    "# Global constants\n",
    "\n",
    "TRAIN_FOLDER = './train_tfrecords'\n",
    "TEST_FOLDER = './test_tfrecords'\n",
    "TRAIN_CSV = './train.csv'\n",
    "TEST_CSV = './test.csv'\n",
    "\n",
    "VAL_RATIO = 0.2"
   ]
  },
  {
   "cell_type": "code",
   "execution_count": 43,
   "metadata": {},
   "outputs": [
    {
     "name": "stdout",
     "output_type": "stream",
     "text": [
      "Train examples\n",
      "     image_name  patient_id     sex  age_approx anatom_site_general_challenge  \\\n",
      "0  ISIC_2637011  IP_7279968    male        45.0                     head/neck   \n",
      "1  ISIC_0015719  IP_3075186  female        45.0               upper extremity   \n",
      "2  ISIC_0052212  IP_2842074  female        50.0               lower extremity   \n",
      "3  ISIC_0068279  IP_6890425  female        45.0                     head/neck   \n",
      "4  ISIC_0074268  IP_8723313  female        55.0               upper extremity   \n",
      "\n",
      "  diagnosis benign_malignant  target  \n",
      "0   unknown           benign       0  \n",
      "1   unknown           benign       0  \n",
      "2     nevus           benign       0  \n",
      "3   unknown           benign       0  \n",
      "4   unknown           benign       0  \n",
      "\n",
      "Test examples\n",
      "     image_name  patient_id     sex  age_approx anatom_site_general_challenge\n",
      "0  ISIC_0052060  IP_3579794    male        70.0                           NaN\n",
      "1  ISIC_0052349  IP_7782715    male        40.0               lower extremity\n",
      "2  ISIC_0058510  IP_7960270  female        55.0                         torso\n",
      "3  ISIC_0073313  IP_6375035  female        50.0                         torso\n",
      "4  ISIC_0073502  IP_0589375  female        45.0               lower extremity\n"
     ]
    }
   ],
   "source": [
    "train_df = pd.read_csv(TRAIN_CSV)\n",
    "test_df = pd.read_csv(TEST_CSV)\n",
    "\n",
    "if 1:\n",
    "    print(f'Train examples\\n{train_df.head()}\\n')\n",
    "    print(f'Test examples\\n{test_df.head()}')"
   ]
  },
  {
   "cell_type": "code",
   "execution_count": 34,
   "metadata": {},
   "outputs": [
    {
     "name": "stdout",
     "output_type": "stream",
     "text": [
      "['IP_2482649', 'IP_1564049', 'IP_3078108', 'IP_2350511', 'IP_9802994']\n",
      "['IP_5142207', 'IP_6275614', 'IP_1386934', 'IP_9086201', 'IP_8759634']\n"
     ]
    }
   ],
   "source": [
    "# Split train and valid while making sure there is no patients simultaneously in train and valid\n",
    "unique_patient_ids = set(train_df['patient_id'])\n",
    "unique_patient_ids = list(unique_patient_ids)\n",
    "\n",
    "if 1:\n",
    "    print(unique_patient_ids[:5])\n",
    "    \n",
    "random.shuffle(unique_patient_ids)\n",
    "\n",
    "if 1:\n",
    "    print(unique_patient_ids[:5])"
   ]
  },
  {
   "cell_type": "code",
   "execution_count": 44,
   "metadata": {},
   "outputs": [
    {
     "name": "stdout",
     "output_type": "stream",
     "text": [
      "There are 26239 samples in the small training set.\n",
      "There are 6887 samples in the validation set.\n",
      "Train examples\n",
      "     image_name  patient_id     sex  age_approx anatom_site_general_challenge  \\\n",
      "0  ISIC_9750403  IP_3710233    male        60.0                         torso   \n",
      "1  ISIC_9271514  IP_3854976  female        45.0                     head/neck   \n",
      "2  ISIC_8021960  IP_9045497    male        70.0               lower extremity   \n",
      "3  ISIC_8078202  IP_4938349    male        70.0               lower extremity   \n",
      "4  ISIC_8336956  IP_5561220  female        20.0               upper extremity   \n",
      "\n",
      "  diagnosis benign_malignant  target  \n",
      "0   unknown           benign       0  \n",
      "1   unknown           benign       0  \n",
      "2     nevus           benign       0  \n",
      "3   unknown           benign       0  \n",
      "4   unknown           benign       0  \n",
      "\n",
      "Validation examples\n",
      "     image_name  patient_id     sex  age_approx anatom_site_general_challenge  \\\n",
      "0  ISIC_6300814  IP_4208266  female        35.0                         torso   \n",
      "1  ISIC_5482805  IP_7770500    male        60.0                         torso   \n",
      "2  ISIC_6851482  IP_3317740    male        35.0                         torso   \n",
      "3  ISIC_7164705  IP_7442038    male        75.0                         torso   \n",
      "4  ISIC_4846741  IP_1195596    male        35.0                         torso   \n",
      "\n",
      "  diagnosis benign_malignant  target  \n",
      "0   unknown           benign       0  \n",
      "1   unknown           benign       0  \n",
      "2     nevus           benign       0  \n",
      "3   unknown           benign       0  \n",
      "4     nevus           benign       0  \n"
     ]
    }
   ],
   "source": [
    "start_val_idx = int( (1 - VAL_RATIO) * len(unique_patient_ids))\n",
    "train_ids = unique_patient_ids[:start_val_idx]\n",
    "valid_ids = unique_patient_ids[start_val_idx:]\n",
    "\n",
    "small_train_df = train_df[train_df['patient_id'].isin(train_ids)].sample(frac=1).reset_index(drop=True)\n",
    "valid_df = train_df[train_df['patient_id'].isin(valid_ids)].sample(frac=1).reset_index(drop=True)\n",
    "\n",
    "# Checking that there is no common patient id\n",
    "a = set(small_train_df['patient_id'])\n",
    "b = set(valid_df['patient_id'])\n",
    "c = a.intersection(b)\n",
    "\n",
    "assert len(c) == 0, 'Patients simultaneously in training and validation set'\n",
    "\n",
    "# Checking the size\n",
    "print(f'There are {len(small_train_df)} samples in the small training set.')\n",
    "print(f'There are {len(valid_df)} samples in the validation set.')\n",
    "\n",
    "if 1:\n",
    "    print(f'Train examples\\n{small_train_df.head()}\\n')\n",
    "    print(f'Validation examples\\n{valid_df.head()}')"
   ]
  },
  {
   "cell_type": "code",
   "execution_count": 39,
   "metadata": {},
   "outputs": [],
   "source": [
    "train_records_list = os.listdir(TRAIN_FOLDER)\n",
    "test_records_list = os.listdir(TEST_FOLDER)\n",
    "\n",
    "if 0:\n",
    "    print(train_records_list)\n",
    "    print(test_records_list)"
   ]
  },
  {
   "cell_type": "code",
   "execution_count": 50,
   "metadata": {},
   "outputs": [
    {
     "name": "stdout",
     "output_type": "stream",
     "text": [
      "33126 present patient IDs with 2056 unique IDs in train set\n",
      "10982 present patient IDs with 690 unique IDs in test set\n"
     ]
    }
   ],
   "source": [
    "train_patient_ids = train_df['patient_id']\n",
    "test_patient_ids = test_df['patient_id']\n",
    "\n",
    "print(f'{len(train_patient_ids)} present patient IDs with {len(set(train_patient_ids))} unique IDs in train set')\n",
    "print(f'{len(test_patient_ids)} present patient IDs with {len(set(test_patient_ids))} unique IDs in test set')"
   ]
  },
  {
   "cell_type": "code",
   "execution_count": null,
   "metadata": {},
   "outputs": [],
   "source": []
  }
 ],
 "metadata": {
  "kernelspec": {
   "display_name": "Python 3",
   "language": "python",
   "name": "python3"
  },
  "language_info": {
   "codemirror_mode": {
    "name": "ipython",
    "version": 3
   },
   "file_extension": ".py",
   "mimetype": "text/x-python",
   "name": "python",
   "nbconvert_exporter": "python",
   "pygments_lexer": "ipython3",
   "version": "3.7.3"
  }
 },
 "nbformat": 4,
 "nbformat_minor": 2
}
